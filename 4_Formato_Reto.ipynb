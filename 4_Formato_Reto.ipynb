{
  "nbformat": 4,
  "nbformat_minor": 0,
  "metadata": {
    "colab": {
      "name": "DS_C3_SC1_Formato_Reto.ipynb",
      "provenance": []
    },
    "kernelspec": {
      "display_name": "Python 3",
      "name": "python3"
    }
  },
  "cells": [
    {
      "cell_type": "markdown",
      "metadata": {
        "id": "4N0VOscUBiUc"
      },
      "source": [
        "**DS_C3_SC1 - PLATAFORMAS DE VISUALIZACIÓN**\n",
        "\n",
        "---\n",
        "\n",
        "**Reto: Explorando el índice de felicidad**"
      ]
    },
    {
      "cell_type": "markdown",
      "metadata": {
        "id": "kve5USK4aZSJ"
      },
      "source": [
        "NOMBRE DEL PARTICIPANTE: ------------------------------( LLENAR )------------------------------"
      ]
    },
    {
      "cell_type": "markdown",
      "metadata": {
        "id": "1qCEU0iRbU6B"
      },
      "source": [
        "1.\tGenera una libreta en Google Colab para el reto, cuya estructura esté basada en los análisis solicitados."
      ]
    },
    {
      "cell_type": "code",
      "metadata": {
        "id": "eOVDmi-44VMK"
      },
      "source": [
        "import pandas as pd\n",
        "import seaborn as sns\n",
        "import matplotlib.pyplot as plt"
      ],
      "execution_count": null,
      "outputs": []
    },
    {
      "cell_type": "markdown",
      "metadata": {
        "id": "y0UzdtbubXzs"
      },
      "source": [
        "2.\tDescarga el archivo: happiness_report.csv y guarda, en un dataframe (`happiness`), todos sus registros."
      ]
    },
    {
      "cell_type": "code",
      "metadata": {
        "id": "WJQosv5Ma1nE"
      },
      "source": [
        ""
      ],
      "execution_count": null,
      "outputs": []
    },
    {
      "cell_type": "markdown",
      "metadata": {
        "id": "OH-VQSZIbhFL"
      },
      "source": [
        "3.\tA partir del dataframe happiness obtén otro (`mexico`) donde sólo almacenes la información de México. Haz que la columna `Country or region` quede como índice. "
      ]
    },
    {
      "cell_type": "code",
      "metadata": {
        "id": "ER5r1ZHwa2L-"
      },
      "source": [
        ""
      ],
      "execution_count": null,
      "outputs": []
    },
    {
      "cell_type": "markdown",
      "metadata": {
        "id": "ZbrKhzCUXZ4i"
      },
      "source": [
        "4.\tObtén un histograma del puntaje (`score`) para identificar el rango o clase más frecuente. Ubica el valor de México con una etiqueta de texto. "
      ]
    },
    {
      "cell_type": "code",
      "metadata": {
        "id": "TVA5RlKZa24h"
      },
      "source": [
        ""
      ],
      "execution_count": null,
      "outputs": []
    },
    {
      "cell_type": "markdown",
      "metadata": {
        "id": "p-clxBa8XgYM"
      },
      "source": [
        "5.\tConstruye un box plot para la columna esperanza de vida (`Healthy life expectancy`). Ubica el valor de México con una anotación."
      ]
    },
    {
      "cell_type": "code",
      "metadata": {
        "id": "tz5PjxoYa3wt"
      },
      "source": [
        ""
      ],
      "execution_count": null,
      "outputs": []
    },
    {
      "cell_type": "markdown",
      "metadata": {
        "id": "Qb0Nu5d1XlTb"
      },
      "source": [
        "6.\tCrea una gráfico circular para analizar en qué medida los factores contribuyen a evaluar la felicidad en México. Para ello, deberás modificar la estructura del dataframe `mexico` obtenido anteriormente."
      ]
    },
    {
      "cell_type": "code",
      "metadata": {
        "id": "xxWlX6BEa4g6"
      },
      "source": [
        ""
      ],
      "execution_count": null,
      "outputs": []
    },
    {
      "cell_type": "markdown",
      "metadata": {
        "id": "mITjMq2JhmIQ"
      },
      "source": [
        "7.\tFiltra el dataframe para quedarte con 5 países (el más feliz, el menos feliz, México y dos más de tu interés) y visualiza en una misma gráfica los 6 factores."
      ]
    },
    {
      "cell_type": "code",
      "metadata": {
        "id": "-IEg8u9ta5yp"
      },
      "source": [
        ""
      ],
      "execution_count": null,
      "outputs": []
    },
    {
      "cell_type": "markdown",
      "metadata": {
        "id": "wsuKiKyyXwnA"
      },
      "source": [
        "8.\tCrea una matriz de subgráficas de 2 x 3 con scatter plots del puntaje (`score`) versus los 6 factores para determinar qué factor influye más en la evaluación."
      ]
    },
    {
      "cell_type": "code",
      "metadata": {
        "id": "mz3cxg6la8ss"
      },
      "source": [
        ""
      ],
      "execution_count": null,
      "outputs": []
    },
    {
      "cell_type": "markdown",
      "metadata": {
        "id": "pN6r1Va8X0Kx"
      },
      "source": [
        "9.\tComprueba lo anterior con un heatmap donde incluyas los índices de correlación."
      ]
    },
    {
      "cell_type": "code",
      "metadata": {
        "id": "B6k-9ehfa8D6"
      },
      "source": [
        ""
      ],
      "execution_count": null,
      "outputs": []
    },
    {
      "cell_type": "markdown",
      "metadata": {
        "id": "wyMgjIxn7n8w"
      },
      "source": [
        "10.\tCombina con el dataframe `metada` (Metadata.csv) para graficar la felicidad promedio por región. "
      ]
    },
    {
      "cell_type": "code",
      "metadata": {
        "id": "guKiZavoa9b_"
      },
      "source": [
        ""
      ],
      "execution_count": null,
      "outputs": []
    }
  ]
}